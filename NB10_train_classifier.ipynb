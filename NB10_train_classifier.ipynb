{
  "nbformat": 4,
  "nbformat_minor": 0,
  "metadata": {
    "colab": {
      "provenance": [],
      "gpuType": "T4"
    },
    "kernelspec": {
      "name": "python3",
      "display_name": "Python 3"
    },
    "language_info": {
      "name": "python"
    },
    "accelerator": "GPU"
  },
  "cells": [
    {
      "cell_type": "markdown",
      "source": [
        "[![Open In Colab](https://colab.research.google.com/assets/colab-badge.svg)](https://colab.research.google.com/github/edwinRNDR/nlnml/blob/master/NB10_train_classifier.ipynb)"
      ],
      "metadata": {
        "id": "1H8cp3ZBNQ9G"
      }
    },
    {
      "cell_type": "code",
      "execution_count": 1,
      "metadata": {
        "id": "CD9YWt3PEwDk"
      },
      "outputs": [],
      "source": [
        "from sklearn.neural_network import MLPClassifier\n",
        "import pandas as pd\n",
        "from sklearn.model_selection import train_test_split\n",
        "import pickle"
      ]
    },
    {
      "cell_type": "markdown",
      "source": [
        "# Connect to GoogleDrive"
      ],
      "metadata": {
        "id": "CHeaflVzE-1W"
      }
    },
    {
      "cell_type": "code",
      "source": [
        "from google.colab import drive\n",
        "drive.mount('/content/gdrive')"
      ],
      "metadata": {
        "id": "JFGTHgFhFBRa",
        "colab": {
          "base_uri": "https://localhost:8080/"
        },
        "outputId": "b97f0192-a67f-427b-9649-2d77694bfa25"
      },
      "execution_count": 2,
      "outputs": [
        {
          "output_type": "stream",
          "name": "stdout",
          "text": [
            "Mounted at /content/gdrive\n"
          ]
        }
      ]
    },
    {
      "cell_type": "markdown",
      "source": [
        "# This is where my dataset lives\n"
      ],
      "metadata": {
        "id": "CPfB4drzFECT"
      }
    },
    {
      "cell_type": "code",
      "source": [
        "dataset_location = '/content/gdrive/MyDrive/nln-dataset'"
      ],
      "metadata": {
        "id": "nPvG-xadFGtU"
      },
      "execution_count": 3,
      "outputs": []
    },
    {
      "cell_type": "markdown",
      "source": [
        "# Train classifier"
      ],
      "metadata": {
        "id": "wRs8vlUKFLDM"
      }
    },
    {
      "cell_type": "code",
      "source": [
        "features_location = f\"{dataset_location}/clip-features.csv\"\n",
        "\n",
        "df = pd.read_csv(features_location)\n",
        "\n",
        "x_df = df[df.columns[2:]]\n",
        "y_df = df[df.columns[1]]\n",
        "x_train, x_test, y_train, y_test = train_test_split(x_df, y_df, random_state=0, test_size=0.5)\n",
        "\n",
        "\n",
        "mlp = MLPClassifier(\n",
        "    hidden_layer_sizes=(40,),\n",
        "    max_iter=8_000,\n",
        "    alpha=1e-4,\n",
        "    solver=\"sgd\",\n",
        "    verbose=10,\n",
        "    random_state=1,\n",
        "    learning_rate_init=0.2,\n",
        ")\n",
        "mlp.fit(x_train, y_train)\n",
        "\n",
        "with open(f\"{dataset_location}/classifier.pkl\", 'wb') as f:\n",
        "    pickle.dump(mlp, f)\n",
        "\n"
      ],
      "metadata": {
        "id": "CaXJ-j5JFN8F",
        "colab": {
          "base_uri": "https://localhost:8080/"
        },
        "outputId": "3a519092-f372-4103-ec8a-0c2618d9076a"
      },
      "execution_count": 12,
      "outputs": [
        {
          "output_type": "stream",
          "name": "stdout",
          "text": [
            "Iteration 1, loss = 1.10796673\n",
            "Iteration 2, loss = 0.05858015\n",
            "Iteration 3, loss = 0.04145105\n",
            "Iteration 4, loss = 0.02648914\n",
            "Iteration 5, loss = 0.01839134\n",
            "Iteration 6, loss = 0.01777679\n",
            "Iteration 7, loss = 0.01114615\n",
            "Iteration 8, loss = 0.00805596\n",
            "Iteration 9, loss = 0.00536366\n",
            "Iteration 10, loss = 0.00329760\n",
            "Iteration 11, loss = 0.00197569\n",
            "Iteration 12, loss = 0.00181434\n",
            "Iteration 13, loss = 0.00128101\n",
            "Iteration 14, loss = 0.00093845\n",
            "Iteration 15, loss = 0.00094137\n",
            "Iteration 16, loss = 0.00076758\n",
            "Iteration 17, loss = 0.00064782\n",
            "Iteration 18, loss = 0.00057890\n",
            "Iteration 19, loss = 0.00057375\n",
            "Iteration 20, loss = 0.00052422\n",
            "Iteration 21, loss = 0.00049494\n",
            "Iteration 22, loss = 0.00046620\n",
            "Iteration 23, loss = 0.00045563\n",
            "Iteration 24, loss = 0.00043226\n",
            "Iteration 25, loss = 0.00042316\n",
            "Iteration 26, loss = 0.00040457\n",
            "Iteration 27, loss = 0.00038437\n",
            "Iteration 28, loss = 0.00037243\n",
            "Training loss did not improve more than tol=0.000100 for 10 consecutive epochs. Stopping.\n"
          ]
        }
      ]
    },
    {
      "cell_type": "markdown",
      "source": [
        "# Test classifier"
      ],
      "metadata": {
        "id": "nPhCOIUgFYoV"
      }
    },
    {
      "cell_type": "code",
      "source": [
        "wrong = 0\n",
        "correct = 0\n",
        "for x,y in zip(mlp.predict(x_test), y_test):\n",
        "    if x==y:\n",
        "      correct = correct + 1\n",
        "    else:\n",
        "      wrong = wrong + 1\n",
        "\n",
        "print(f\"precision = { (correct)/(wrong+correct) } \")"
      ],
      "metadata": {
        "id": "oP_1xK2BFbbm",
        "colab": {
          "base_uri": "https://localhost:8080/"
        },
        "outputId": "cb311cbb-320a-4cf7-c42a-3eb7101f55b6"
      },
      "execution_count": 13,
      "outputs": [
        {
          "output_type": "stream",
          "name": "stdout",
          "text": [
            "precision = 0.9897435897435898 \n"
          ]
        }
      ]
    }
  ]
}