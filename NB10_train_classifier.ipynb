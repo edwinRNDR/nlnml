{
  "nbformat": 4,
  "nbformat_minor": 0,
  "metadata": {
    "colab": {
      "provenance": []
    },
    "kernelspec": {
      "name": "python3",
      "display_name": "Python 3"
    },
    "language_info": {
      "name": "python"
    }
  },
  "cells": [
    {
      "cell_type": "code",
      "execution_count": 1,
      "metadata": {
        "id": "CD9YWt3PEwDk"
      },
      "outputs": [],
      "source": [
        "from sklearn.neural_network import MLPClassifier\n",
        "import pandas as pd\n",
        "from sklearn.model_selection import train_test_split"
      ]
    },
    {
      "cell_type": "markdown",
      "source": [
        "# Connect to GoogleDrive"
      ],
      "metadata": {
        "id": "CHeaflVzE-1W"
      }
    },
    {
      "cell_type": "code",
      "source": [
        "from google.colab import drive\n",
        "drive.mount('/content/gdrive')"
      ],
      "metadata": {
        "id": "JFGTHgFhFBRa"
      },
      "execution_count": null,
      "outputs": []
    },
    {
      "cell_type": "markdown",
      "source": [
        "# This is where my dataset lives\n"
      ],
      "metadata": {
        "id": "CPfB4drzFECT"
      }
    },
    {
      "cell_type": "code",
      "source": [
        "dataset_location = '/content/gdrive/MyDrive/nln-dataset'"
      ],
      "metadata": {
        "id": "nPvG-xadFGtU"
      },
      "execution_count": null,
      "outputs": []
    },
    {
      "cell_type": "markdown",
      "source": [
        "# Train classifier"
      ],
      "metadata": {
        "id": "wRs8vlUKFLDM"
      }
    },
    {
      "cell_type": "code",
      "source": [
        "features_location = f\"{dataset_location}/clip-features.csv\"\n",
        "\n",
        "df = pd.read_csv(features_location)\n",
        "\n",
        "x_df = df[df.columns[2:]]\n",
        "y_df = df[df.columns[1]]\n",
        "x_train, x_test, y_train, y_test = train_test_split(x_df, y_df, random_state=0, test_size=0.5)\n",
        "\n",
        "\n",
        "mlp = MLPClassifier(\n",
        "    hidden_layer_sizes=(40,),\n",
        "    max_iter=8_000,\n",
        "    alpha=1e-4,\n",
        "    solver=\"sgd\",\n",
        "    verbose=10,\n",
        "    random_state=1,\n",
        "    learning_rate_init=0.2,\n",
        ")"
      ],
      "metadata": {
        "id": "CaXJ-j5JFN8F"
      },
      "execution_count": null,
      "outputs": []
    },
    {
      "cell_type": "markdown",
      "source": [
        "# Test classifier"
      ],
      "metadata": {
        "id": "nPhCOIUgFYoV"
      }
    },
    {
      "cell_type": "code",
      "source": [
        "mlp.fit(x_train, y_train)\n",
        "for x,y in zip(mlp.predict(x_test), y_test):\n",
        "    print(f\"{x} - {y}\")"
      ],
      "metadata": {
        "id": "oP_1xK2BFbbm"
      },
      "execution_count": null,
      "outputs": []
    }
  ]
}